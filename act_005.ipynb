{
 "cells": [
  {
   "cell_type": "code",
   "execution_count": 1,
   "metadata": {},
   "outputs": [],
   "source": [
    "%matplotlib inline\n",
    "# importamos la triada de Data Science\n",
    "import pandas as pd\n",
    "import numpy as np\n",
    "import matplotlib.pyplot as plt\n",
    "# importamos scipy.stats que ayudará a generar distribuciones\n",
    "import scipy.stats as stats\n",
    "\n",
    "plt.style.use('seaborn-whitegrid') # Gráficos estilo seaborn\n",
    "plt.rcParams[\"figure.figsize\"] = (6, 4) # Tamaño gráficos\n",
    "plt.rcParams[\"figure.dpi\"] = 200 # resolución gráficos\n",
    "### Genere una submuestra de casos acorde a lo siguiente:"
   ]
  },
  {
   "cell_type": "code",
   "execution_count": 2,
   "metadata": {},
   "outputs": [],
   "source": [
    "df = pd.read_csv('qog_std_cs_jan18.csv')"
   ]
  },
  {
   "cell_type": "code",
   "execution_count": 3,
   "metadata": {},
   "outputs": [],
   "source": [
    "df_subsample= df.sample(frac= .50, random_state=6217)"
   ]
  },
  {
   "cell_type": "code",
   "execution_count": 4,
   "metadata": {},
   "outputs": [
    {
     "data": {
      "text/plain": [
       "(97, 1882)"
      ]
     },
     "execution_count": 4,
     "metadata": {},
     "output_type": "execute_result"
    }
   ],
   "source": [
    "df_subsample.shape"
   ]
  },
  {
   "cell_type": "code",
   "execution_count": 5,
   "metadata": {},
   "outputs": [],
   "source": [
    "df_p_educ= df_subsample.loc[:,['undp_hdi', 'ccodealp','ht_region', 'gle_cgdpc', 'imf_pop', 'ffp_hf', 'wef_qes','wdi_expedu','wdi_ners']]"
   ]
  },
  {
   "cell_type": "code",
   "execution_count": 6,
   "metadata": {},
   "outputs": [],
   "source": [
    "df_p_educ['ht_region'] = df_p_educ['ht_region'].replace([1, 2, 3, 4, 5, 6, 7, 8, 9, 10],\n",
    "                                                           ['EastEurope', 'LatAm', 'NorthAfrica',\n",
    "                                                            'SubSaharian', 'WesternDem', 'EastAsia',\n",
    "                                                            'SouthEastAsia','SouthAsia','Pacific', 'Caribbean' ])"
   ]
  },
  {
   "cell_type": "code",
   "execution_count": 7,
   "metadata": {},
   "outputs": [
    {
     "name": "stdout",
     "output_type": "stream",
     "text": [
      "\f",
      "\n"
     ]
    }
   ],
   "source": [
    "clear"
   ]
  },
  {
   "cell_type": "code",
   "execution_count": 8,
   "metadata": {},
   "outputs": [],
   "source": [
    "## Genere una función que ingrese su objeto y devuelva lo siguiente"
   ]
  },
  {
   "cell_type": "code",
   "execution_count": 9,
   "metadata": {},
   "outputs": [
    {
     "name": "stdout",
     "output_type": "stream",
     "text": [
      "\f",
      "\n"
     ]
    }
   ],
   "source": [
    "clear"
   ]
  },
  {
   "cell_type": "code",
   "execution_count": 10,
   "metadata": {},
   "outputs": [
    {
     "data": {
      "text/html": [
       "<div>\n",
       "<style scoped>\n",
       "    .dataframe tbody tr th:only-of-type {\n",
       "        vertical-align: middle;\n",
       "    }\n",
       "\n",
       "    .dataframe tbody tr th {\n",
       "        vertical-align: top;\n",
       "    }\n",
       "\n",
       "    .dataframe thead th {\n",
       "        text-align: right;\n",
       "    }\n",
       "</style>\n",
       "<table border=\"1\" class=\"dataframe\">\n",
       "  <thead>\n",
       "    <tr style=\"text-align: right;\">\n",
       "      <th></th>\n",
       "      <th>undp_hdi</th>\n",
       "      <th>ccodealp</th>\n",
       "      <th>ht_region</th>\n",
       "      <th>gle_cgdpc</th>\n",
       "      <th>imf_pop</th>\n",
       "      <th>ffp_hf</th>\n",
       "      <th>wef_qes</th>\n",
       "      <th>wdi_expedu</th>\n",
       "      <th>wdi_ners</th>\n",
       "    </tr>\n",
       "  </thead>\n",
       "  <tbody>\n",
       "    <tr>\n",
       "      <th>190</th>\n",
       "      <td>0.769</td>\n",
       "      <td>VEN</td>\n",
       "      <td>LatAm</td>\n",
       "      <td>10513.96000</td>\n",
       "      <td>NaN</td>\n",
       "      <td>5.2</td>\n",
       "      <td>2.640229</td>\n",
       "      <td>NaN</td>\n",
       "      <td>74.789711</td>\n",
       "    </tr>\n",
       "    <tr>\n",
       "      <th>116</th>\n",
       "      <td>0.414</td>\n",
       "      <td>MOZ</td>\n",
       "      <td>SubSaharian</td>\n",
       "      <td>852.39001</td>\n",
       "      <td>25.733000</td>\n",
       "      <td>7.4</td>\n",
       "      <td>2.770460</td>\n",
       "      <td>6.48322</td>\n",
       "      <td>19.439980</td>\n",
       "    </tr>\n",
       "    <tr>\n",
       "      <th>5</th>\n",
       "      <td>0.784</td>\n",
       "      <td>ATG</td>\n",
       "      <td>Caribbean</td>\n",
       "      <td>12257.71000</td>\n",
       "      <td>NaN</td>\n",
       "      <td>7.3</td>\n",
       "      <td>NaN</td>\n",
       "      <td>NaN</td>\n",
       "      <td>79.731438</td>\n",
       "    </tr>\n",
       "    <tr>\n",
       "      <th>19</th>\n",
       "      <td>0.698</td>\n",
       "      <td>BWA</td>\n",
       "      <td>SubSaharian</td>\n",
       "      <td>12770.73000</td>\n",
       "      <td>NaN</td>\n",
       "      <td>5.1</td>\n",
       "      <td>3.523580</td>\n",
       "      <td>NaN</td>\n",
       "      <td>NaN</td>\n",
       "    </tr>\n",
       "    <tr>\n",
       "      <th>4</th>\n",
       "      <td>0.531</td>\n",
       "      <td>AGO</td>\n",
       "      <td>SubSaharian</td>\n",
       "      <td>3771.20000</td>\n",
       "      <td>25.789000</td>\n",
       "      <td>6.0</td>\n",
       "      <td>2.134716</td>\n",
       "      <td>NaN</td>\n",
       "      <td>NaN</td>\n",
       "    </tr>\n",
       "    <tr>\n",
       "      <th>32</th>\n",
       "      <td>0.347</td>\n",
       "      <td>CAF</td>\n",
       "      <td>SubSaharian</td>\n",
       "      <td>690.03998</td>\n",
       "      <td>NaN</td>\n",
       "      <td>6.9</td>\n",
       "      <td>NaN</td>\n",
       "      <td>1.22393</td>\n",
       "      <td>13.600750</td>\n",
       "    </tr>\n",
       "    <tr>\n",
       "      <th>80</th>\n",
       "      <td>0.920</td>\n",
       "      <td>IRL</td>\n",
       "      <td>WesternDem</td>\n",
       "      <td>46422.07000</td>\n",
       "      <td>4.621000</td>\n",
       "      <td>2.8</td>\n",
       "      <td>5.434197</td>\n",
       "      <td>5.32457</td>\n",
       "      <td>99.573357</td>\n",
       "    </tr>\n",
       "    <tr>\n",
       "      <th>52</th>\n",
       "      <td>0.678</td>\n",
       "      <td>SLV</td>\n",
       "      <td>LatAm</td>\n",
       "      <td>332.26999</td>\n",
       "      <td>NaN</td>\n",
       "      <td>6.9</td>\n",
       "      <td>3.804579</td>\n",
       "      <td>3.44857</td>\n",
       "      <td>70.171722</td>\n",
       "    </tr>\n",
       "    <tr>\n",
       "      <th>167</th>\n",
       "      <td>0.909</td>\n",
       "      <td>SWE</td>\n",
       "      <td>WesternDem</td>\n",
       "      <td>39000.91000</td>\n",
       "      <td>9.645000</td>\n",
       "      <td>1.5</td>\n",
       "      <td>4.577006</td>\n",
       "      <td>7.67509</td>\n",
       "      <td>96.651558</td>\n",
       "    </tr>\n",
       "    <tr>\n",
       "      <th>129</th>\n",
       "      <td>NaN</td>\n",
       "      <td>MHL</td>\n",
       "      <td>Pacific</td>\n",
       "      <td>2833.97000</td>\n",
       "      <td>0.054000</td>\n",
       "      <td>NaN</td>\n",
       "      <td>NaN</td>\n",
       "      <td>NaN</td>\n",
       "      <td>64.461304</td>\n",
       "    </tr>\n",
       "    <tr>\n",
       "      <th>173</th>\n",
       "      <td>0.718</td>\n",
       "      <td>TON</td>\n",
       "      <td>Pacific</td>\n",
       "      <td>3962.06010</td>\n",
       "      <td>0.104000</td>\n",
       "      <td>NaN</td>\n",
       "      <td>NaN</td>\n",
       "      <td>NaN</td>\n",
       "      <td>75.429092</td>\n",
       "    </tr>\n",
       "    <tr>\n",
       "      <th>147</th>\n",
       "      <td>0.720</td>\n",
       "      <td>VCT</td>\n",
       "      <td>Caribbean</td>\n",
       "      <td>7454.87990</td>\n",
       "      <td>0.110000</td>\n",
       "      <td>NaN</td>\n",
       "      <td>NaN</td>\n",
       "      <td>NaN</td>\n",
       "      <td>NaN</td>\n",
       "    </tr>\n",
       "    <tr>\n",
       "      <th>42</th>\n",
       "      <td>0.775</td>\n",
       "      <td>CRI</td>\n",
       "      <td>LatAm</td>\n",
       "      <td>9485.71000</td>\n",
       "      <td>NaN</td>\n",
       "      <td>3.5</td>\n",
       "      <td>4.666449</td>\n",
       "      <td>6.92724</td>\n",
       "      <td>78.121140</td>\n",
       "    </tr>\n",
       "    <tr>\n",
       "      <th>58</th>\n",
       "      <td>0.893</td>\n",
       "      <td>FIN</td>\n",
       "      <td>WesternDem</td>\n",
       "      <td>36958.21100</td>\n",
       "      <td>5.427000</td>\n",
       "      <td>2.3</td>\n",
       "      <td>5.859115</td>\n",
       "      <td>7.16810</td>\n",
       "      <td>94.003181</td>\n",
       "    </tr>\n",
       "    <tr>\n",
       "      <th>89</th>\n",
       "      <td>NaN</td>\n",
       "      <td>PRK</td>\n",
       "      <td>EastAsia</td>\n",
       "      <td>1727.81990</td>\n",
       "      <td>NaN</td>\n",
       "      <td>4.2</td>\n",
       "      <td>NaN</td>\n",
       "      <td>NaN</td>\n",
       "      <td>76.203728</td>\n",
       "    </tr>\n",
       "    <tr>\n",
       "      <th>168</th>\n",
       "      <td>0.938</td>\n",
       "      <td>CHE</td>\n",
       "      <td>WesternDem</td>\n",
       "      <td>50454.41000</td>\n",
       "      <td>8.140000</td>\n",
       "      <td>2.1</td>\n",
       "      <td>5.986858</td>\n",
       "      <td>5.09608</td>\n",
       "      <td>84.246483</td>\n",
       "    </tr>\n",
       "    <tr>\n",
       "      <th>101</th>\n",
       "      <td>0.896</td>\n",
       "      <td>LUX</td>\n",
       "      <td>WesternDem</td>\n",
       "      <td>61404.48000</td>\n",
       "      <td>0.550000</td>\n",
       "      <td>2.1</td>\n",
       "      <td>4.580255</td>\n",
       "      <td>4.08388</td>\n",
       "      <td>84.603470</td>\n",
       "    </tr>\n",
       "    <tr>\n",
       "      <th>141</th>\n",
       "      <td>0.855</td>\n",
       "      <td>QAT</td>\n",
       "      <td>NorthAfrica</td>\n",
       "      <td>104049.44000</td>\n",
       "      <td>2.045000</td>\n",
       "      <td>3.1</td>\n",
       "      <td>5.820522</td>\n",
       "      <td>3.60719</td>\n",
       "      <td>72.464622</td>\n",
       "    </tr>\n",
       "    <tr>\n",
       "      <th>96</th>\n",
       "      <td>0.828</td>\n",
       "      <td>LVA</td>\n",
       "      <td>EastEurope</td>\n",
       "      <td>16583.67000</td>\n",
       "      <td>2.001000</td>\n",
       "      <td>4.4</td>\n",
       "      <td>3.764238</td>\n",
       "      <td>5.28524</td>\n",
       "      <td>94.276611</td>\n",
       "    </tr>\n",
       "    <tr>\n",
       "      <th>56</th>\n",
       "      <td>0.863</td>\n",
       "      <td>EST</td>\n",
       "      <td>EastEurope</td>\n",
       "      <td>19768.03900</td>\n",
       "      <td>1.316000</td>\n",
       "      <td>3.5</td>\n",
       "      <td>4.364779</td>\n",
       "      <td>5.48164</td>\n",
       "      <td>94.391281</td>\n",
       "    </tr>\n",
       "    <tr>\n",
       "      <th>127</th>\n",
       "      <td>0.948</td>\n",
       "      <td>NOR</td>\n",
       "      <td>WesternDem</td>\n",
       "      <td>57634.77000</td>\n",
       "      <td>5.156000</td>\n",
       "      <td>1.6</td>\n",
       "      <td>5.048264</td>\n",
       "      <td>7.37329</td>\n",
       "      <td>95.201927</td>\n",
       "    </tr>\n",
       "    <tr>\n",
       "      <th>155</th>\n",
       "      <td>0.924</td>\n",
       "      <td>SGP</td>\n",
       "      <td>SouthEastAsia</td>\n",
       "      <td>54268.14800</td>\n",
       "      <td>5.470000</td>\n",
       "      <td>3.3</td>\n",
       "      <td>5.797279</td>\n",
       "      <td>2.91579</td>\n",
       "      <td>NaN</td>\n",
       "    </tr>\n",
       "    <tr>\n",
       "      <th>60</th>\n",
       "      <td>0.470</td>\n",
       "      <td>DJI</td>\n",
       "      <td>SubSaharian</td>\n",
       "      <td>2685.50000</td>\n",
       "      <td>NaN</td>\n",
       "      <td>5.8</td>\n",
       "      <td>NaN</td>\n",
       "      <td>NaN</td>\n",
       "      <td>NaN</td>\n",
       "    </tr>\n",
       "    <tr>\n",
       "      <th>99</th>\n",
       "      <td>0.911</td>\n",
       "      <td>LIE</td>\n",
       "      <td>WesternDem</td>\n",
       "      <td>102243.52000</td>\n",
       "      <td>NaN</td>\n",
       "      <td>NaN</td>\n",
       "      <td>NaN</td>\n",
       "      <td>2.55604</td>\n",
       "      <td>91.538719</td>\n",
       "    </tr>\n",
       "    <tr>\n",
       "      <th>137</th>\n",
       "      <td>0.852</td>\n",
       "      <td>POL</td>\n",
       "      <td>EastEurope</td>\n",
       "      <td>19990.93900</td>\n",
       "      <td>38.018002</td>\n",
       "      <td>4.4</td>\n",
       "      <td>3.566189</td>\n",
       "      <td>4.91175</td>\n",
       "      <td>92.548828</td>\n",
       "    </tr>\n",
       "    <tr>\n",
       "      <th>38</th>\n",
       "      <td>0.724</td>\n",
       "      <td>COL</td>\n",
       "      <td>LatAm</td>\n",
       "      <td>8761.13960</td>\n",
       "      <td>47.661999</td>\n",
       "      <td>6.7</td>\n",
       "      <td>3.405908</td>\n",
       "      <td>4.65941</td>\n",
       "      <td>78.586067</td>\n",
       "    </tr>\n",
       "    <tr>\n",
       "      <th>158</th>\n",
       "      <td>0.888</td>\n",
       "      <td>SVN</td>\n",
       "      <td>EastEurope</td>\n",
       "      <td>24456.56100</td>\n",
       "      <td>2.061000</td>\n",
       "      <td>2.8</td>\n",
       "      <td>4.073011</td>\n",
       "      <td>5.48659</td>\n",
       "      <td>94.945908</td>\n",
       "    </tr>\n",
       "    <tr>\n",
       "      <th>135</th>\n",
       "      <td>0.737</td>\n",
       "      <td>PER</td>\n",
       "      <td>LatAm</td>\n",
       "      <td>9227.15040</td>\n",
       "      <td>30.809000</td>\n",
       "      <td>6.7</td>\n",
       "      <td>2.538635</td>\n",
       "      <td>3.68978</td>\n",
       "      <td>78.379562</td>\n",
       "    </tr>\n",
       "    <tr>\n",
       "      <th>69</th>\n",
       "      <td>0.637</td>\n",
       "      <td>GTM</td>\n",
       "      <td>LatAm</td>\n",
       "      <td>4438.00000</td>\n",
       "      <td>NaN</td>\n",
       "      <td>6.7</td>\n",
       "      <td>2.693368</td>\n",
       "      <td>2.94174</td>\n",
       "      <td>46.718418</td>\n",
       "    </tr>\n",
       "    <tr>\n",
       "      <th>175</th>\n",
       "      <td>0.836</td>\n",
       "      <td>ARE</td>\n",
       "      <td>NorthAfrica</td>\n",
       "      <td>20310.10900</td>\n",
       "      <td>NaN</td>\n",
       "      <td>2.5</td>\n",
       "      <td>5.279841</td>\n",
       "      <td>NaN</td>\n",
       "      <td>NaN</td>\n",
       "    </tr>\n",
       "    <tr>\n",
       "      <th>...</th>\n",
       "      <td>...</td>\n",
       "      <td>...</td>\n",
       "      <td>...</td>\n",
       "      <td>...</td>\n",
       "      <td>...</td>\n",
       "      <td>...</td>\n",
       "      <td>...</td>\n",
       "      <td>...</td>\n",
       "      <td>...</td>\n",
       "    </tr>\n",
       "    <tr>\n",
       "      <th>132</th>\n",
       "      <td>0.785</td>\n",
       "      <td>PAN</td>\n",
       "      <td>LatAm</td>\n",
       "      <td>15137.04000</td>\n",
       "      <td>3.788000</td>\n",
       "      <td>4.0</td>\n",
       "      <td>3.523098</td>\n",
       "      <td>3.18772</td>\n",
       "      <td>77.833748</td>\n",
       "    </tr>\n",
       "    <tr>\n",
       "      <th>157</th>\n",
       "      <td>0.678</td>\n",
       "      <td>VNM</td>\n",
       "      <td>SouthEastAsia</td>\n",
       "      <td>4147.56980</td>\n",
       "      <td>89.691002</td>\n",
       "      <td>5.6</td>\n",
       "      <td>3.336011</td>\n",
       "      <td>5.65873</td>\n",
       "      <td>NaN</td>\n",
       "    </tr>\n",
       "    <tr>\n",
       "      <th>114</th>\n",
       "      <td>0.804</td>\n",
       "      <td>MNE</td>\n",
       "      <td>EastEurope</td>\n",
       "      <td>14538.52000</td>\n",
       "      <td>0.622000</td>\n",
       "      <td>3.6</td>\n",
       "      <td>4.253060</td>\n",
       "      <td>NaN</td>\n",
       "      <td>NaN</td>\n",
       "    </tr>\n",
       "    <tr>\n",
       "      <th>14</th>\n",
       "      <td>0.794</td>\n",
       "      <td>BRB</td>\n",
       "      <td>Caribbean</td>\n",
       "      <td>22888.97100</td>\n",
       "      <td>0.279000</td>\n",
       "      <td>5.4</td>\n",
       "      <td>5.040226</td>\n",
       "      <td>6.57330</td>\n",
       "      <td>99.428749</td>\n",
       "    </tr>\n",
       "    <tr>\n",
       "      <th>50</th>\n",
       "      <td>0.718</td>\n",
       "      <td>DOM</td>\n",
       "      <td>LatAm</td>\n",
       "      <td>10376.63000</td>\n",
       "      <td>NaN</td>\n",
       "      <td>7.6</td>\n",
       "      <td>2.636395</td>\n",
       "      <td>NaN</td>\n",
       "      <td>65.457611</td>\n",
       "    </tr>\n",
       "    <tr>\n",
       "      <th>23</th>\n",
       "      <td>0.864</td>\n",
       "      <td>BRN</td>\n",
       "      <td>SouthEastAsia</td>\n",
       "      <td>46103.84000</td>\n",
       "      <td>0.412000</td>\n",
       "      <td>4.6</td>\n",
       "      <td>4.417221</td>\n",
       "      <td>3.35319</td>\n",
       "      <td>87.032318</td>\n",
       "    </tr>\n",
       "    <tr>\n",
       "      <th>40</th>\n",
       "      <td>0.590</td>\n",
       "      <td>COG</td>\n",
       "      <td>SubSaharian</td>\n",
       "      <td>2369.84010</td>\n",
       "      <td>NaN</td>\n",
       "      <td>6.8</td>\n",
       "      <td>NaN</td>\n",
       "      <td>NaN</td>\n",
       "      <td>NaN</td>\n",
       "    </tr>\n",
       "    <tr>\n",
       "      <th>49</th>\n",
       "      <td>0.724</td>\n",
       "      <td>DMA</td>\n",
       "      <td>Caribbean</td>\n",
       "      <td>12613.72000</td>\n",
       "      <td>NaN</td>\n",
       "      <td>NaN</td>\n",
       "      <td>NaN</td>\n",
       "      <td>NaN</td>\n",
       "      <td>86.320930</td>\n",
       "    </tr>\n",
       "    <tr>\n",
       "      <th>2</th>\n",
       "      <td>0.743</td>\n",
       "      <td>DZA</td>\n",
       "      <td>NorthAfrica</td>\n",
       "      <td>5402.16990</td>\n",
       "      <td>39.113998</td>\n",
       "      <td>5.1</td>\n",
       "      <td>2.977302</td>\n",
       "      <td>NaN</td>\n",
       "      <td>NaN</td>\n",
       "    </tr>\n",
       "    <tr>\n",
       "      <th>27</th>\n",
       "      <td>0.798</td>\n",
       "      <td>BLR</td>\n",
       "      <td>EastEurope</td>\n",
       "      <td>17780.64100</td>\n",
       "      <td>9.468000</td>\n",
       "      <td>3.4</td>\n",
       "      <td>NaN</td>\n",
       "      <td>4.99044</td>\n",
       "      <td>99.465446</td>\n",
       "    </tr>\n",
       "    <tr>\n",
       "      <th>7</th>\n",
       "      <td>0.826</td>\n",
       "      <td>ARG</td>\n",
       "      <td>LatAm</td>\n",
       "      <td>15102.61000</td>\n",
       "      <td>41.733002</td>\n",
       "      <td>3.0</td>\n",
       "      <td>2.983357</td>\n",
       "      <td>5.32549</td>\n",
       "      <td>88.246002</td>\n",
       "    </tr>\n",
       "    <tr>\n",
       "      <th>117</th>\n",
       "      <td>0.795</td>\n",
       "      <td>OMN</td>\n",
       "      <td>NorthAfrica</td>\n",
       "      <td>26158.73000</td>\n",
       "      <td>3.717000</td>\n",
       "      <td>1.9</td>\n",
       "      <td>3.535049</td>\n",
       "      <td>4.96038</td>\n",
       "      <td>94.329842</td>\n",
       "    </tr>\n",
       "    <tr>\n",
       "      <th>35</th>\n",
       "      <td>0.845</td>\n",
       "      <td>CHL</td>\n",
       "      <td>LatAm</td>\n",
       "      <td>15519.08000</td>\n",
       "      <td>17.819000</td>\n",
       "      <td>3.2</td>\n",
       "      <td>3.691637</td>\n",
       "      <td>4.75012</td>\n",
       "      <td>88.297859</td>\n",
       "    </tr>\n",
       "    <tr>\n",
       "      <th>105</th>\n",
       "      <td>0.701</td>\n",
       "      <td>MDV</td>\n",
       "      <td>SouthAsia</td>\n",
       "      <td>13349.76000</td>\n",
       "      <td>0.336000</td>\n",
       "      <td>5.6</td>\n",
       "      <td>NaN</td>\n",
       "      <td>4.14696</td>\n",
       "      <td>NaN</td>\n",
       "    </tr>\n",
       "    <tr>\n",
       "      <th>161</th>\n",
       "      <td>0.507</td>\n",
       "      <td>ZWE</td>\n",
       "      <td>SubSaharian</td>\n",
       "      <td>15997.67000</td>\n",
       "      <td>12.459000</td>\n",
       "      <td>8.0</td>\n",
       "      <td>4.200081</td>\n",
       "      <td>8.42933</td>\n",
       "      <td>44.236969</td>\n",
       "    </tr>\n",
       "    <tr>\n",
       "      <th>92</th>\n",
       "      <td>0.662</td>\n",
       "      <td>KGZ</td>\n",
       "      <td>EastEurope</td>\n",
       "      <td>3010.24000</td>\n",
       "      <td>5.895000</td>\n",
       "      <td>6.4</td>\n",
       "      <td>2.853689</td>\n",
       "      <td>5.52738</td>\n",
       "      <td>80.177567</td>\n",
       "    </tr>\n",
       "    <tr>\n",
       "      <th>186</th>\n",
       "      <td>0.918</td>\n",
       "      <td>USA</td>\n",
       "      <td>WesternDem</td>\n",
       "      <td>47769.69900</td>\n",
       "      <td>318.789001</td>\n",
       "      <td>1.5</td>\n",
       "      <td>4.564571</td>\n",
       "      <td>5.38078</td>\n",
       "      <td>90.462288</td>\n",
       "    </tr>\n",
       "    <tr>\n",
       "      <th>154</th>\n",
       "      <td>0.431</td>\n",
       "      <td>SLE</td>\n",
       "      <td>SubSaharian</td>\n",
       "      <td>979.95001</td>\n",
       "      <td>6.232000</td>\n",
       "      <td>8.4</td>\n",
       "      <td>2.986086</td>\n",
       "      <td>2.66167</td>\n",
       "      <td>NaN</td>\n",
       "    </tr>\n",
       "    <tr>\n",
       "      <th>152</th>\n",
       "      <td>0.775</td>\n",
       "      <td>SRB</td>\n",
       "      <td>EastEurope</td>\n",
       "      <td>11343.92000</td>\n",
       "      <td>7.167000</td>\n",
       "      <td>5.3</td>\n",
       "      <td>3.058159</td>\n",
       "      <td>4.17861</td>\n",
       "      <td>92.205231</td>\n",
       "    </tr>\n",
       "    <tr>\n",
       "      <th>146</th>\n",
       "      <td>0.735</td>\n",
       "      <td>LCA</td>\n",
       "      <td>Caribbean</td>\n",
       "      <td>11095.80000</td>\n",
       "      <td>0.167000</td>\n",
       "      <td>NaN</td>\n",
       "      <td>NaN</td>\n",
       "      <td>4.90166</td>\n",
       "      <td>77.714058</td>\n",
       "    </tr>\n",
       "    <tr>\n",
       "      <th>140</th>\n",
       "      <td>0.603</td>\n",
       "      <td>TLS</td>\n",
       "      <td>SouthEastAsia</td>\n",
       "      <td>1957.81010</td>\n",
       "      <td>1.146000</td>\n",
       "      <td>7.0</td>\n",
       "      <td>2.449351</td>\n",
       "      <td>7.77500</td>\n",
       "      <td>51.849049</td>\n",
       "    </tr>\n",
       "    <tr>\n",
       "      <th>170</th>\n",
       "      <td>0.625</td>\n",
       "      <td>TJK</td>\n",
       "      <td>EastEurope</td>\n",
       "      <td>3592.64990</td>\n",
       "      <td>8.132000</td>\n",
       "      <td>6.3</td>\n",
       "      <td>3.840425</td>\n",
       "      <td>5.23215</td>\n",
       "      <td>83.224823</td>\n",
       "    </tr>\n",
       "    <tr>\n",
       "      <th>110</th>\n",
       "      <td>0.758</td>\n",
       "      <td>MEX</td>\n",
       "      <td>LatAm</td>\n",
       "      <td>13609.42000</td>\n",
       "      <td>119.712997</td>\n",
       "      <td>5.8</td>\n",
       "      <td>2.814059</td>\n",
       "      <td>5.31348</td>\n",
       "      <td>67.409737</td>\n",
       "    </tr>\n",
       "    <tr>\n",
       "      <th>53</th>\n",
       "      <td>0.582</td>\n",
       "      <td>GNQ</td>\n",
       "      <td>SubSaharian</td>\n",
       "      <td>15412.43000</td>\n",
       "      <td>NaN</td>\n",
       "      <td>6.0</td>\n",
       "      <td>NaN</td>\n",
       "      <td>NaN</td>\n",
       "      <td>NaN</td>\n",
       "    </tr>\n",
       "    <tr>\n",
       "      <th>9</th>\n",
       "      <td>0.892</td>\n",
       "      <td>AUT</td>\n",
       "      <td>WesternDem</td>\n",
       "      <td>38868.03900</td>\n",
       "      <td>8.544000</td>\n",
       "      <td>1.5</td>\n",
       "      <td>4.492075</td>\n",
       "      <td>5.49955</td>\n",
       "      <td>NaN</td>\n",
       "    </tr>\n",
       "    <tr>\n",
       "      <th>182</th>\n",
       "      <td>0.746</td>\n",
       "      <td>MKD</td>\n",
       "      <td>EastEurope</td>\n",
       "      <td>9610.59960</td>\n",
       "      <td>2.069000</td>\n",
       "      <td>5.5</td>\n",
       "      <td>3.961112</td>\n",
       "      <td>NaN</td>\n",
       "      <td>NaN</td>\n",
       "    </tr>\n",
       "    <tr>\n",
       "      <th>123</th>\n",
       "      <td>0.913</td>\n",
       "      <td>NZL</td>\n",
       "      <td>WesternDem</td>\n",
       "      <td>26481.36900</td>\n",
       "      <td>4.555000</td>\n",
       "      <td>2.1</td>\n",
       "      <td>5.318371</td>\n",
       "      <td>6.33680</td>\n",
       "      <td>96.440018</td>\n",
       "    </tr>\n",
       "    <tr>\n",
       "      <th>144</th>\n",
       "      <td>0.493</td>\n",
       "      <td>RWA</td>\n",
       "      <td>SubSaharian</td>\n",
       "      <td>1440.39000</td>\n",
       "      <td>10.200000</td>\n",
       "      <td>7.5</td>\n",
       "      <td>4.037596</td>\n",
       "      <td>3.79746</td>\n",
       "      <td>27.239189</td>\n",
       "    </tr>\n",
       "    <tr>\n",
       "      <th>16</th>\n",
       "      <td>0.604</td>\n",
       "      <td>BTN</td>\n",
       "      <td>SouthAsia</td>\n",
       "      <td>5639.02000</td>\n",
       "      <td>0.766000</td>\n",
       "      <td>6.8</td>\n",
       "      <td>4.033873</td>\n",
       "      <td>5.92460</td>\n",
       "      <td>62.838310</td>\n",
       "    </tr>\n",
       "    <tr>\n",
       "      <th>159</th>\n",
       "      <td>NaN</td>\n",
       "      <td>SOM</td>\n",
       "      <td>SubSaharian</td>\n",
       "      <td>1436.74000</td>\n",
       "      <td>NaN</td>\n",
       "      <td>9.2</td>\n",
       "      <td>NaN</td>\n",
       "      <td>NaN</td>\n",
       "      <td>NaN</td>\n",
       "    </tr>\n",
       "  </tbody>\n",
       "</table>\n",
       "<p>97 rows × 9 columns</p>\n",
       "</div>"
      ],
      "text/plain": [
       "     undp_hdi ccodealp      ht_region     gle_cgdpc     imf_pop  ffp_hf  \\\n",
       "190     0.769      VEN          LatAm   10513.96000         NaN     5.2   \n",
       "116     0.414      MOZ    SubSaharian     852.39001   25.733000     7.4   \n",
       "5       0.784      ATG      Caribbean   12257.71000         NaN     7.3   \n",
       "19      0.698      BWA    SubSaharian   12770.73000         NaN     5.1   \n",
       "4       0.531      AGO    SubSaharian    3771.20000   25.789000     6.0   \n",
       "32      0.347      CAF    SubSaharian     690.03998         NaN     6.9   \n",
       "80      0.920      IRL     WesternDem   46422.07000    4.621000     2.8   \n",
       "52      0.678      SLV          LatAm     332.26999         NaN     6.9   \n",
       "167     0.909      SWE     WesternDem   39000.91000    9.645000     1.5   \n",
       "129       NaN      MHL        Pacific    2833.97000    0.054000     NaN   \n",
       "173     0.718      TON        Pacific    3962.06010    0.104000     NaN   \n",
       "147     0.720      VCT      Caribbean    7454.87990    0.110000     NaN   \n",
       "42      0.775      CRI          LatAm    9485.71000         NaN     3.5   \n",
       "58      0.893      FIN     WesternDem   36958.21100    5.427000     2.3   \n",
       "89        NaN      PRK       EastAsia    1727.81990         NaN     4.2   \n",
       "168     0.938      CHE     WesternDem   50454.41000    8.140000     2.1   \n",
       "101     0.896      LUX     WesternDem   61404.48000    0.550000     2.1   \n",
       "141     0.855      QAT    NorthAfrica  104049.44000    2.045000     3.1   \n",
       "96      0.828      LVA     EastEurope   16583.67000    2.001000     4.4   \n",
       "56      0.863      EST     EastEurope   19768.03900    1.316000     3.5   \n",
       "127     0.948      NOR     WesternDem   57634.77000    5.156000     1.6   \n",
       "155     0.924      SGP  SouthEastAsia   54268.14800    5.470000     3.3   \n",
       "60      0.470      DJI    SubSaharian    2685.50000         NaN     5.8   \n",
       "99      0.911      LIE     WesternDem  102243.52000         NaN     NaN   \n",
       "137     0.852      POL     EastEurope   19990.93900   38.018002     4.4   \n",
       "38      0.724      COL          LatAm    8761.13960   47.661999     6.7   \n",
       "158     0.888      SVN     EastEurope   24456.56100    2.061000     2.8   \n",
       "135     0.737      PER          LatAm    9227.15040   30.809000     6.7   \n",
       "69      0.637      GTM          LatAm    4438.00000         NaN     6.7   \n",
       "175     0.836      ARE    NorthAfrica   20310.10900         NaN     2.5   \n",
       "..        ...      ...            ...           ...         ...     ...   \n",
       "132     0.785      PAN          LatAm   15137.04000    3.788000     4.0   \n",
       "157     0.678      VNM  SouthEastAsia    4147.56980   89.691002     5.6   \n",
       "114     0.804      MNE     EastEurope   14538.52000    0.622000     3.6   \n",
       "14      0.794      BRB      Caribbean   22888.97100    0.279000     5.4   \n",
       "50      0.718      DOM          LatAm   10376.63000         NaN     7.6   \n",
       "23      0.864      BRN  SouthEastAsia   46103.84000    0.412000     4.6   \n",
       "40      0.590      COG    SubSaharian    2369.84010         NaN     6.8   \n",
       "49      0.724      DMA      Caribbean   12613.72000         NaN     NaN   \n",
       "2       0.743      DZA    NorthAfrica    5402.16990   39.113998     5.1   \n",
       "27      0.798      BLR     EastEurope   17780.64100    9.468000     3.4   \n",
       "7       0.826      ARG          LatAm   15102.61000   41.733002     3.0   \n",
       "117     0.795      OMN    NorthAfrica   26158.73000    3.717000     1.9   \n",
       "35      0.845      CHL          LatAm   15519.08000   17.819000     3.2   \n",
       "105     0.701      MDV      SouthAsia   13349.76000    0.336000     5.6   \n",
       "161     0.507      ZWE    SubSaharian   15997.67000   12.459000     8.0   \n",
       "92      0.662      KGZ     EastEurope    3010.24000    5.895000     6.4   \n",
       "186     0.918      USA     WesternDem   47769.69900  318.789001     1.5   \n",
       "154     0.431      SLE    SubSaharian     979.95001    6.232000     8.4   \n",
       "152     0.775      SRB     EastEurope   11343.92000    7.167000     5.3   \n",
       "146     0.735      LCA      Caribbean   11095.80000    0.167000     NaN   \n",
       "140     0.603      TLS  SouthEastAsia    1957.81010    1.146000     7.0   \n",
       "170     0.625      TJK     EastEurope    3592.64990    8.132000     6.3   \n",
       "110     0.758      MEX          LatAm   13609.42000  119.712997     5.8   \n",
       "53      0.582      GNQ    SubSaharian   15412.43000         NaN     6.0   \n",
       "9       0.892      AUT     WesternDem   38868.03900    8.544000     1.5   \n",
       "182     0.746      MKD     EastEurope    9610.59960    2.069000     5.5   \n",
       "123     0.913      NZL     WesternDem   26481.36900    4.555000     2.1   \n",
       "144     0.493      RWA    SubSaharian    1440.39000   10.200000     7.5   \n",
       "16      0.604      BTN      SouthAsia    5639.02000    0.766000     6.8   \n",
       "159       NaN      SOM    SubSaharian    1436.74000         NaN     9.2   \n",
       "\n",
       "      wef_qes  wdi_expedu   wdi_ners  \n",
       "190  2.640229         NaN  74.789711  \n",
       "116  2.770460     6.48322  19.439980  \n",
       "5         NaN         NaN  79.731438  \n",
       "19   3.523580         NaN        NaN  \n",
       "4    2.134716         NaN        NaN  \n",
       "32        NaN     1.22393  13.600750  \n",
       "80   5.434197     5.32457  99.573357  \n",
       "52   3.804579     3.44857  70.171722  \n",
       "167  4.577006     7.67509  96.651558  \n",
       "129       NaN         NaN  64.461304  \n",
       "173       NaN         NaN  75.429092  \n",
       "147       NaN         NaN        NaN  \n",
       "42   4.666449     6.92724  78.121140  \n",
       "58   5.859115     7.16810  94.003181  \n",
       "89        NaN         NaN  76.203728  \n",
       "168  5.986858     5.09608  84.246483  \n",
       "101  4.580255     4.08388  84.603470  \n",
       "141  5.820522     3.60719  72.464622  \n",
       "96   3.764238     5.28524  94.276611  \n",
       "56   4.364779     5.48164  94.391281  \n",
       "127  5.048264     7.37329  95.201927  \n",
       "155  5.797279     2.91579        NaN  \n",
       "60        NaN         NaN        NaN  \n",
       "99        NaN     2.55604  91.538719  \n",
       "137  3.566189     4.91175  92.548828  \n",
       "38   3.405908     4.65941  78.586067  \n",
       "158  4.073011     5.48659  94.945908  \n",
       "135  2.538635     3.68978  78.379562  \n",
       "69   2.693368     2.94174  46.718418  \n",
       "175  5.279841         NaN        NaN  \n",
       "..        ...         ...        ...  \n",
       "132  3.523098     3.18772  77.833748  \n",
       "157  3.336011     5.65873        NaN  \n",
       "114  4.253060         NaN        NaN  \n",
       "14   5.040226     6.57330  99.428749  \n",
       "50   2.636395         NaN  65.457611  \n",
       "23   4.417221     3.35319  87.032318  \n",
       "40        NaN         NaN        NaN  \n",
       "49        NaN         NaN  86.320930  \n",
       "2    2.977302         NaN        NaN  \n",
       "27        NaN     4.99044  99.465446  \n",
       "7    2.983357     5.32549  88.246002  \n",
       "117  3.535049     4.96038  94.329842  \n",
       "35   3.691637     4.75012  88.297859  \n",
       "105       NaN     4.14696        NaN  \n",
       "161  4.200081     8.42933  44.236969  \n",
       "92   2.853689     5.52738  80.177567  \n",
       "186  4.564571     5.38078  90.462288  \n",
       "154  2.986086     2.66167        NaN  \n",
       "152  3.058159     4.17861  92.205231  \n",
       "146       NaN     4.90166  77.714058  \n",
       "140  2.449351     7.77500  51.849049  \n",
       "170  3.840425     5.23215  83.224823  \n",
       "110  2.814059     5.31348  67.409737  \n",
       "53        NaN         NaN        NaN  \n",
       "9    4.492075     5.49955        NaN  \n",
       "182  3.961112         NaN        NaN  \n",
       "123  5.318371     6.33680  96.440018  \n",
       "144  4.037596     3.79746  27.239189  \n",
       "16   4.033873     5.92460  62.838310  \n",
       "159       NaN         NaN        NaN  \n",
       "\n",
       "[97 rows x 9 columns]"
      ]
     },
     "execution_count": 10,
     "metadata": {},
     "output_type": "execute_result"
    }
   ],
   "source": [
    "df_p_educ"
   ]
  },
  {
   "cell_type": "code",
   "execution_count": 11,
   "metadata": {},
   "outputs": [
    {
     "name": "stdout",
     "output_type": "stream",
     "text": [
      "count    94.000000\n",
      "mean      0.716702\n",
      "std       0.146740\n",
      "min       0.347000\n",
      "25%       0.606750\n",
      "50%       0.736000\n",
      "75%       0.827500\n",
      "max       0.948000\n",
      "Name: undp_hdi, dtype: float64\n",
      "OMN    1\n",
      "BIH    1\n",
      "PAK    1\n",
      "VCT    1\n",
      "CHN    1\n",
      "PHL    1\n",
      "LCA    1\n",
      "MNE    1\n",
      "MEX    1\n",
      "CHE    1\n",
      "IDN    1\n",
      "CIV    1\n",
      "KOR    1\n",
      "HND    1\n",
      "TUR    1\n",
      "BGD    1\n",
      "SUR    1\n",
      "MHL    1\n",
      "MKD    1\n",
      "SOM    1\n",
      "KAZ    1\n",
      "GBR    1\n",
      "ETH    1\n",
      "DZA    1\n",
      "SWE    1\n",
      "ARE    1\n",
      "SYC    1\n",
      "NOR    1\n",
      "SYR    1\n",
      "POL    1\n",
      "      ..\n",
      "IRL    1\n",
      "KWT    1\n",
      "CRI    1\n",
      "SLE    1\n",
      "VEN    1\n",
      "DJI    1\n",
      "DMA    1\n",
      "TLS    1\n",
      "FRA    1\n",
      "SLV    1\n",
      "MOZ    1\n",
      "BTN    1\n",
      "ATG    1\n",
      "COG    1\n",
      "AGO    1\n",
      "QAT    1\n",
      "BWA    1\n",
      "BRB    1\n",
      "SRB    1\n",
      "GTM    1\n",
      "DOM    1\n",
      "VNM    1\n",
      "LVA    1\n",
      "BRN    1\n",
      "MDV    1\n",
      "GNQ    1\n",
      "NIC    1\n",
      "STP    1\n",
      "BGR    1\n",
      "TJK    1\n",
      "Name: ccodealp, Length: 97, dtype: int64\n",
      "SubSaharian      20\n",
      "EastEurope       16\n",
      "LatAm            13\n",
      "WesternDem       13\n",
      "NorthAfrica       9\n",
      "Caribbean         8\n",
      "SouthEastAsia     8\n",
      "SouthAsia         5\n",
      "EastAsia          3\n",
      "Pacific           2\n",
      "Name: ht_region, dtype: int64\n",
      "count        96.000000\n",
      "mean      16604.826527\n",
      "std       19932.075799\n",
      "min         332.269990\n",
      "25%        3229.914925\n",
      "50%        9993.614800\n",
      "75%       20070.731500\n",
      "max      104049.440000\n",
      "Name: gle_cgdpc, dtype: float64\n",
      "count     73.000000\n",
      "mean      31.394247\n",
      "std       58.266194\n",
      "min        0.054000\n",
      "25%        2.001000\n",
      "50%        6.898000\n",
      "75%       33.179001\n",
      "max      318.789001\n",
      "Name: imf_pop, dtype: float64\n",
      "count    91.000000\n",
      "mean      5.272527\n",
      "std       2.068068\n",
      "min       1.500000\n",
      "25%       3.500000\n",
      "50%       5.500000\n",
      "75%       6.900000\n",
      "max       9.200000\n",
      "Name: ffp_hf, dtype: float64\n",
      "count    78.000000\n",
      "mean      3.812516\n",
      "std       0.911670\n",
      "min       2.134716\n",
      "25%       3.165022\n",
      "50%       3.607243\n",
      "75%       4.408194\n",
      "max       5.986858\n",
      "Name: wef_qes, dtype: float64\n",
      "count    69.000000\n",
      "mean      4.695298\n",
      "std       1.604583\n",
      "min       1.223930\n",
      "25%       3.479140\n",
      "50%       4.766260\n",
      "75%       5.527380\n",
      "max       8.429330\n",
      "Name: wdi_expedu, dtype: float64\n",
      "count    71.000000\n",
      "mean     74.677404\n",
      "std      21.545482\n",
      "min      13.600750\n",
      "25%      63.632561\n",
      "50%      78.586067\n",
      "75%      92.609726\n",
      "max      99.573357\n",
      "Name: wdi_ners, dtype: float64\n"
     ]
    }
   ],
   "source": [
    "for llave, valor in df_p_educ.iteritems():\n",
    "    if type(valor.iloc[0]) is str:\n",
    "        print(valor.value_counts())\n",
    "    else:\n",
    "        print(valor.describe())"
   ]
  },
  {
   "cell_type": "code",
   "execution_count": 12,
   "metadata": {},
   "outputs": [
    {
     "name": "stdout",
     "output_type": "stream",
     "text": [
      "\f",
      "\n"
     ]
    }
   ],
   "source": [
    "clear"
   ]
  },
  {
   "cell_type": "code",
   "execution_count": 13,
   "metadata": {},
   "outputs": [],
   "source": [
    "## Genere una función que liste las observaciones perdidas de una variable"
   ]
  },
  {
   "cell_type": "code",
   "execution_count": 14,
   "metadata": {},
   "outputs": [],
   "source": [
    "def obs_perdidas(df,var, print_list= False):\n",
    "    \"\"\" df: es el DataFrame\n",
    "    var, variable a insepeccionar\n",
    "    print_list: Opción para imprimir la lista de observaciones perdidas\"\"\"\n",
    "    \n",
    "    casos_perdidos=df[var].isnull()\n",
    "    paises_casos_perdidos = df.loc[df[var].isnull()]['ccodealp'].unique()\n",
    "    \n",
    "    \n",
    "    if print_list:\n",
    "        return casos_perdidos.value_counts().get(True), casos_perdidos.value_counts('%').get(True), paises_casos_perdidos\n",
    "    else:\n",
    "        return casos_perdidos.value_counts().get(True), casos_perdidos.value_counts('%').get(True)\n"
   ]
  },
  {
   "cell_type": "code",
   "execution_count": 15,
   "metadata": {},
   "outputs": [
    {
     "name": "stdout",
     "output_type": "stream",
     "text": [
      "Cantidad de observaciones perdidas para imf_pop:  24\n",
      "Porcentaje de observaciones perdidas para imf_pop:  0.24742268041237114\n"
     ]
    }
   ],
   "source": [
    "print(\"Cantidad de observaciones perdidas para imf_pop: \", obs_perdidas(df_p_educ, 'imf_pop')[0])\n",
    "print(\"Porcentaje de observaciones perdidas para imf_pop: \", obs_perdidas(df_p_educ, 'imf_pop')[1])"
   ]
  },
  {
   "cell_type": "code",
   "execution_count": 16,
   "metadata": {},
   "outputs": [
    {
     "name": "stdout",
     "output_type": "stream",
     "text": [
      "Cantidad de observaciones perdidas para imf_pop:  24\n",
      "Porcentaje de observaciones perdidas para imf_pop:  0.24742268041237114\n",
      "Lista paises observaciones perdidas para imf_pop:  ['VEN' 'ATG' 'BWA' 'CAF' 'SLV' 'CRI' 'PRK' 'DJI' 'LIE' 'GTM' 'ARE' 'IND'\n",
      " 'STP' 'MDG' 'CHN' 'HND' 'SDN' 'SYR' 'GNB' 'DOM' 'COG' 'DMA' 'GNQ' 'SOM']\n"
     ]
    }
   ],
   "source": [
    "print(\"Cantidad de observaciones perdidas para imf_pop: \", obs_perdidas(df_p_educ, 'imf_pop', True)[0])\n",
    "print(\"Porcentaje de observaciones perdidas para imf_pop: \", obs_perdidas(df_p_educ, 'imf_pop', True)[1])\n",
    "print(\"Lista paises observaciones perdidas para imf_pop: \", obs_perdidas(df_p_educ, 'imf_pop', True)[2])"
   ]
  },
  {
   "cell_type": "code",
   "execution_count": 17,
   "metadata": {},
   "outputs": [],
   "source": [
    "#Analice todas las variables"
   ]
  },
  {
   "cell_type": "code",
   "execution_count": 18,
   "metadata": {},
   "outputs": [
    {
     "name": "stdout",
     "output_type": "stream",
     "text": [
      "\f",
      "\n"
     ]
    }
   ],
   "source": [
    "clear    "
   ]
  },
  {
   "cell_type": "code",
   "execution_count": 19,
   "metadata": {},
   "outputs": [
    {
     "name": "stdout",
     "output_type": "stream",
     "text": [
      "\f",
      "\n"
     ]
    }
   ],
   "source": [
    "clear"
   ]
  },
  {
   "cell_type": "code",
   "execution_count": 20,
   "metadata": {},
   "outputs": [
    {
     "name": "stdout",
     "output_type": "stream",
     "text": [
      "La columna  undp_hdi tiene  0.030927835051546393 vacios\n",
      "La columna  ccodealp tiene  0 vacios\n",
      "La columna  ht_region tiene  0 vacios\n",
      "La columna  gle_cgdpc tiene  0.010309278350515464 vacios\n",
      "La columna  imf_pop tiene  0.24742268041237114 vacios\n",
      "La columna  ffp_hf tiene  0.061855670103092786 vacios\n",
      "La columna  wef_qes tiene  0.1958762886597938 vacios\n",
      "La columna  wdi_expedu tiene  0.28865979381443296 vacios\n",
      "La columna  wdi_ners tiene  0.26804123711340205 vacios\n"
     ]
    }
   ],
   "source": [
    "for columna, valor in df_p_educ.iteritems():\n",
    "    #print(columna)\n",
    "    porcentaje = obs_perdidas(df_p_educ, columna)[1]\n",
    "    if porcentaje is None:\n",
    "        porcentaje = 0\n",
    "    print(\"La columna \", columna, \"tiene \", porcentaje, \"vacios\")"
   ]
  },
  {
   "cell_type": "code",
   "execution_count": 21,
   "metadata": {},
   "outputs": [
    {
     "name": "stdout",
     "output_type": "stream",
     "text": [
      "Lista paises observaciones perdidas para imf_pop:  ['VEN' 'ATG' 'BWA' 'CAF' 'SLV' 'CRI' 'PRK' 'DJI' 'LIE' 'GTM' 'ARE' 'IND'\n",
      " 'STP' 'MDG' 'CHN' 'HND' 'SDN' 'SYR' 'GNB' 'DOM' 'COG' 'DMA' 'GNQ' 'SOM']\n"
     ]
    }
   ],
   "source": [
    "#Para las 3 variables con un mayor porcentaje\n",
    "print(\"Lista paises observaciones perdidas para imf_pop: \", obs_perdidas(df_p_educ, 'imf_pop', True)[2])\n"
   ]
  },
  {
   "cell_type": "code",
   "execution_count": 22,
   "metadata": {},
   "outputs": [
    {
     "name": "stdout",
     "output_type": "stream",
     "text": [
      "Lista paises observaciones perdidas para wdi_ners:  ['BWA' 'AGO' 'VCT' 'SGP' 'DJI' 'ARE' 'CIV' 'BHS' 'NIC' 'CHN' 'SDN' 'KHM'\n",
      " 'TZA' 'BIH' 'RUS' 'GNB' 'VNM' 'MNE' 'COG' 'DZA' 'MDV' 'SLE' 'GNQ' 'AUT'\n",
      " 'MKD' 'SOM']\n"
     ]
    }
   ],
   "source": [
    "print(\"Lista paises observaciones perdidas para wdi_ners: \", obs_perdidas(df_p_educ, 'wdi_ners', True)[2])"
   ]
  },
  {
   "cell_type": "code",
   "execution_count": 23,
   "metadata": {},
   "outputs": [
    {
     "name": "stdout",
     "output_type": "stream",
     "text": [
      "Lista paises observaciones perdidas para wdi_expedu:  ['VEN' 'ATG' 'BWA' 'AGO' 'MHL' 'TON' 'VCT' 'PRK' 'DJI' 'ARE' 'BHS' 'NIC'\n",
      " 'KWT' 'PHL' 'SUR' 'MAR' 'CHN' 'SDN' 'BIH' 'SYR' 'MNE' 'DOM' 'COG' 'DMA'\n",
      " 'DZA' 'GNQ' 'MKD' 'SOM']\n"
     ]
    }
   ],
   "source": [
    "print(\"Lista paises observaciones perdidas para wdi_expedu: \", obs_perdidas(df_p_educ, 'wdi_expedu', True)[2])"
   ]
  },
  {
   "cell_type": "code",
   "execution_count": 24,
   "metadata": {},
   "outputs": [],
   "source": [
    "#---------------------------###\n",
    "## Grafique los histogramas"
   ]
  },
  {
   "cell_type": "code",
   "execution_count": 25,
   "metadata": {},
   "outputs": [
    {
     "name": "stdout",
     "output_type": "stream",
     "text": [
      "\f",
      "\n"
     ]
    }
   ],
   "source": [
    "clear\n"
   ]
  },
  {
   "cell_type": "code",
   "execution_count": 26,
   "metadata": {},
   "outputs": [],
   "source": [
    "def f_histograma(df,var, sample_mean= False, true_mean = False):\n",
    "    var_graf = df[var].dropna();\n",
    "    plt.hist(var_graf, color='grey', alpha=.4)\n",
    "        \n",
    "    #imprimir la media de la variable\n",
    "    if sample_mean:\n",
    "        var_graf_mean = var_graf.mean()\n",
    "        plt.axvline(var_graf_mean, color='dodgerblue', linestyle='--', lw=2)\n",
    "        \n",
    "    #media de la base de datos completa\n",
    "    if true_mean:\n",
    "        plt.axvline(0.5, color='tomato', linestyle='--', lw=2)\n",
    "        \n",
    "    plt.title(\"Histograma\");"
   ]
  },
  {
   "cell_type": "code",
   "execution_count": 27,
   "metadata": {},
   "outputs": [
    {
     "data": {
      "image/png": "[encoded data removed]",
      "text/plain": [
       "<Figure size 432x288 with 1 Axes>"
      ]
     },
     "metadata": {},
     "output_type": "display_data"
    }
   ],
   "source": [
    "f_histograma(df_p_educ, 'undp_hdi', True, True)"
   ]
  },
  {
   "cell_type": "code",
   "execution_count": 28,
   "metadata": {},
   "outputs": [],
   "source": [
    "# Implemente las funciones para las 4 variables seleccionadas según su grupo. \n",
    "#¿En qué variables la media de la submuestra es mayor a la de la muestra completa?"
   ]
  },
  {
   "cell_type": "code",
   "execution_count": 52,
   "metadata": {},
   "outputs": [
    {
     "data": {
      "image/png": "[encoded data removed]",
      "text/plain": [
       "<Figure size 432x288 with 1 Axes>"
      ]
     },
     "metadata": {},
     "output_type": "display_data"
    }
   ],
   "source": [
    "f_histograma(df_p_educ, 'ffp_hf', True, True)\n"
   ]
  },
  {
   "cell_type": "code",
   "execution_count": 53,
   "metadata": {},
   "outputs": [
    {
     "data": {
      "image/png": "[encoded data removed]",
      "text/plain": [
       "<Figure size 432x288 with 1 Axes>"
      ]
     },
     "metadata": {},
     "output_type": "display_data"
    }
   ],
   "source": [
    "f_histograma(df_p_educ, 'wef_qes', True, True)"
   ]
  },
  {
   "cell_type": "code",
   "execution_count": 54,
   "metadata": {},
   "outputs": [
    {
     "data": {
      "image/png": "[encoded data removed]",
      "text/plain": [
       "<Figure size 432x288 with 1 Axes>"
      ]
     },
     "metadata": {},
     "output_type": "display_data"
    }
   ],
   "source": [
    "f_histograma(df_p_educ, 'wdi_expedu', True, True)"
   ]
  },
  {
   "cell_type": "code",
   "execution_count": null,
   "metadata": {},
   "outputs": [],
   "source": [
    "#En todos los casos la media de la submuestra es mayor"
   ]
  },
  {
   "cell_type": "code",
   "execution_count": 55,
   "metadata": {},
   "outputs": [
    {
     "data": {
      "image/png": "[encoded data removed]",
      "text/plain": [
       "<Figure size 432x288 with 1 Axes>"
      ]
     },
     "metadata": {},
     "output_type": "display_data"
    }
   ],
   "source": [
    "f_histograma(df_p_educ, 'wdi_ners', True, True)"
   ]
  },
  {
   "cell_type": "code",
   "execution_count": 29,
   "metadata": {},
   "outputs": [],
   "source": [
    "### Genere una función que devuelva un dotplot"
   ]
  },
  {
   "cell_type": "code",
   "execution_count": 41,
   "metadata": {},
   "outputs": [],
   "source": [
    "def f_dotplot(df,plot_var, plot_by, global_stat = False, statistic = 'mean'):\n",
    "    var_group = df.loc[:, [plot_var, plot_by] ]\n",
    "    group_m = 0\n",
    "    \n",
    "    if statistic == 'mean':\n",
    "        group_m = round(var_group.groupby(plot_by)[plot_var].mean(),2)\n",
    "        global_s = var_group[plot_var].mean() #para usuarlo en el global stat\n",
    "    elif statistic == 'median':\n",
    "        group_m = round(var_group.groupby(plot_by)[plot_var].median(),2)\n",
    "        global_s = var_group[plot_var].median() #para usuarlo en el global stat\n",
    "    \n",
    "    plt.title('Dotplot')\n",
    "    plt.plot(group_m.values, group_m.index, 'o', color = 'grey')\n",
    "    \n",
    "    if global_stat:\n",
    "        plt.axvline(global_s, color = 'tomato', linestyle = '--')\n",
    "    \n",
    "    "
   ]
  },
  {
   "cell_type": "code",
   "execution_count": 44,
   "metadata": {},
   "outputs": [
    {
     "data": {
      "image/png": "[encoded data removed]",
      "text/plain": [
       "<Figure size 432x288 with 1 Axes>"
      ]
     },
     "metadata": {},
     "output_type": "display_data"
    }
   ],
   "source": [
    "f_dotplot(df_p_educ, 'undp_hdi', 'ht_region', True, 'mean')"
   ]
  },
  {
   "cell_type": "code",
   "execution_count": 45,
   "metadata": {},
   "outputs": [],
   "source": [
    "# * Implemente la función en las 3 variables con una menor cantidad de datos perdidos."
   ]
  },
  {
   "cell_type": "code",
   "execution_count": 46,
   "metadata": {},
   "outputs": [
    {
     "data": {
      "image/png": "[encoded data removed]",
      "text/plain": [
       "<Figure size 432x288 with 1 Axes>"
      ]
     },
     "metadata": {},
     "output_type": "display_data"
    }
   ],
   "source": [
    "f_dotplot(df_p_educ, 'imf_pop', 'ht_region', True, 'mean')"
   ]
  },
  {
   "cell_type": "code",
   "execution_count": 47,
   "metadata": {},
   "outputs": [
    {
     "data": {
      "image/png": "[encoded data removed]",
      "text/plain": [
       "<Figure size 432x288 with 1 Axes>"
      ]
     },
     "metadata": {},
     "output_type": "display_data"
    }
   ],
   "source": [
    "f_dotplot(df_p_educ, 'wdi_ners', 'ht_region', True, 'mean')"
   ]
  },
  {
   "cell_type": "code",
   "execution_count": 48,
   "metadata": {},
   "outputs": [
    {
     "data": {
      "image/png": "[encoded data removed]",
      "text/plain": [
       "<Figure size 432x288 with 1 Axes>"
      ]
     },
     "metadata": {},
     "output_type": "display_data"
    }
   ],
   "source": [
    "f_dotplot(df_p_educ, 'wdi_expedu', 'ht_region', True, 'mean')"
   ]
  },
  {
   "cell_type": "code",
   "execution_count": 49,
   "metadata": {},
   "outputs": [],
   "source": [
    "##### Guarde la base de datos"
   ]
  },
  {
   "cell_type": "code",
   "execution_count": 50,
   "metadata": {},
   "outputs": [],
   "source": [
    "df_p_educ.to_csv('subsample_ab_demo.csv')"
   ]
  },
  {
   "cell_type": "code",
   "execution_count": null,
   "metadata": {},
   "outputs": [],
   "source": []
  }
 ],
 "metadata": {
  "kernelspec": {
   "display_name": "Python 3",
   "language": "python",
   "name": "python3"
  },
  "language_info": {
   "codemirror_mode": {
    "name": "ipython",
    "version": 3
   },
   "file_extension": ".py",
   "mimetype": "text/x-python",
   "name": "python",
   "nbconvert_exporter": "python",
   "pygments_lexer": "ipython3",
   "version": "3.6.5"
  }
 },
 "nbformat": 4,
 "nbformat_minor": 2
}
